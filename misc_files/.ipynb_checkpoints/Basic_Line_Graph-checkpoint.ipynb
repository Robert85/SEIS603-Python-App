{
 "cells": [
  {
   "cell_type": "code",
   "execution_count": 1,
   "metadata": {},
   "outputs": [
    {
     "data": {
      "text/plain": [
       "'2.0.14'"
      ]
     },
     "execution_count": 1,
     "metadata": {},
     "output_type": "execute_result"
    }
   ],
   "source": [
    "import plotly.plotly as py\n",
    "import plotly.graph_objs as go\n",
    "import plotly\n",
    "plotly.__version__"
   ]
  },
  {
   "cell_type": "code",
   "execution_count": 2,
   "metadata": {},
   "outputs": [],
   "source": [
    "import pyodbc\n",
    "import pandas as pd\n",
    "\n",
    "def database_connection():\n",
    "    conn = pyodbc.connect(\n",
    "        r'DRIVER={SQL Server Native Client 11.0};'\n",
    "        r'SERVER=localhost;'\n",
    "        r'DATABASE=seis603_pricing_project;'\n",
    "        r'UID=python_dev;'\n",
    "        r'PWD=python_dev;'\n",
    "        )\n",
    "    cursor = conn.cursor()\n",
    "    return cursor\n",
    "\n",
    "db_connection = database_connection()\n",
    "\n",
    "#set up user and item we are looking up\n",
    "user_id = 100\n",
    "item_id = 102\n"
   ]
  },
  {
   "cell_type": "code",
   "execution_count": 3,
   "metadata": {},
   "outputs": [
    {
     "name": "stdout",
     "output_type": "stream",
     "text": [
      "   item id             item name\n",
      "0      101     Adrenaline GTS 17\n",
      "1      102  Radian R100 Car Seat\n"
     ]
    }
   ],
   "source": [
    "\n",
    "#items tracking\n",
    "sql = \"EXEC [dbo].[usp_GetCurrentTracking] {}\".format(user_id)\n",
    "db_connection.execute(sql)#, params) #executing sproc\n",
    "list_items = db_connection.fetchall()#[0] #fetchone will only return first result\n",
    "#df = pd.Series(list_items)\n",
    "labels = ['item id','item name']\n",
    "df = pd.DataFrame.from_records(list_items, columns=labels) #create dataframe from list\n",
    "print(df)    "
   ]
  },
  {
   "cell_type": "code",
   "execution_count": 4,
   "metadata": {},
   "outputs": [
    {
     "name": "stdout",
     "output_type": "stream",
     "text": [
      "[(102, 'Radian R100 Car Seat', 'Diono', 101, 'Target', Decimal('239.99'), datetime.date(2018, 3, 8)), (102, 'Radian R100 Car Seat', 'Diono', 101, 'Target', Decimal('239.99'), datetime.date(2018, 3, 9)), (102, 'Radian R100 Car Seat', 'Diono', 101, 'Target', Decimal('234.99'), datetime.date(2018, 3, 12)), (102, 'Radian R100 Car Seat', 'Diono', 101, 'Target', Decimal('234.99'), datetime.date(2018, 3, 13)), (102, 'Radian R100 Car Seat', 'Diono', 101, 'Target', Decimal('234.99'), datetime.date(2018, 3, 14)), (102, 'Radian R100 Car Seat', 'Diono', 101, 'Target', Decimal('234.99'), datetime.date(2018, 3, 15)), (102, 'Radian R100 Car Seat', 'Diono', 101, 'Target', Decimal('234.99'), datetime.date(2018, 3, 17)), (102, 'Radian R100 Car Seat', 'Diono', 101, 'Target', Decimal('234.99'), datetime.date(2018, 3, 18)), (102, 'Radian R100 Car Seat', 'Diono', 102, 'Amazon', Decimal('179.99'), datetime.date(2018, 3, 12)), (102, 'Radian R100 Car Seat', 'Diono', 102, 'Amazon', Decimal('209.99'), datetime.date(2018, 3, 13)), (102, 'Radian R100 Car Seat', 'Diono', 102, 'Amazon', Decimal('209.99'), datetime.date(2018, 3, 14)), (102, 'Radian R100 Car Seat', 'Diono', 102, 'Amazon', Decimal('209.99'), datetime.date(2018, 3, 15)), (102, 'Radian R100 Car Seat', 'Diono', 102, 'Amazon', Decimal('209.99'), datetime.date(2018, 3, 17)), (102, 'Radian R100 Car Seat', 'Diono', 102, 'Amazon', Decimal('209.99'), datetime.date(2018, 3, 18)), (102, 'Radian R100 Car Seat', 'Diono', 103, 'Walmart', Decimal('179.99'), datetime.date(2018, 3, 12)), (102, 'Radian R100 Car Seat', 'Diono', 103, 'Walmart', Decimal('234.99'), datetime.date(2018, 3, 15)), (102, 'Radian R100 Car Seat', 'Diono', 103, 'Walmart', Decimal('234.99'), datetime.date(2018, 3, 17)), (102, 'Radian R100 Car Seat', 'Diono', 103, 'Walmart', Decimal('234.99'), datetime.date(2018, 3, 18)), (102, 'Radian R100 Car Seat', 'Diono', 105, 'Toys r Us', Decimal('179.99'), datetime.date(2018, 3, 8)), (102, 'Radian R100 Car Seat', 'Diono', 105, 'Toys r Us', Decimal('179.99'), datetime.date(2018, 3, 9)), (102, 'Radian R100 Car Seat', 'Diono', 105, 'Toys r Us', Decimal('179.99'), datetime.date(2018, 3, 12)), (102, 'Radian R100 Car Seat', 'Diono', 105, 'Toys r Us', Decimal('234.99'), datetime.date(2018, 3, 17))]\n"
     ]
    }
   ],
   "source": [
    "#price history of items\n",
    "sql = \"EXEC [dbo].[usp_GetUserItemPriceHistory] {},{}\".format(user_id,item_id)\n",
    "db_connection.execute(sql)#, params) #executing sproc\n",
    "list_items = db_connection.fetchall()#[0] #fetchone will only return first result\n",
    "#list_items['ItemPrice'].replace('None', 0, inplace=True)\n",
    "\n",
    "print(list_items)\n"
   ]
  },
  {
   "cell_type": "code",
   "execution_count": 5,
   "metadata": {},
   "outputs": [
    {
     "name": "stdout",
     "output_type": "stream",
     "text": [
      "    item id             item name  Brand  Store ID Store Name Item Price  \\\n",
      "0       102  Radian R100 Car Seat  Diono       101     Target     239.99   \n",
      "1       102  Radian R100 Car Seat  Diono       101     Target     239.99   \n",
      "2       102  Radian R100 Car Seat  Diono       101     Target     234.99   \n",
      "3       102  Radian R100 Car Seat  Diono       101     Target     234.99   \n",
      "4       102  Radian R100 Car Seat  Diono       101     Target     234.99   \n",
      "5       102  Radian R100 Car Seat  Diono       101     Target     234.99   \n",
      "6       102  Radian R100 Car Seat  Diono       101     Target     234.99   \n",
      "7       102  Radian R100 Car Seat  Diono       101     Target     234.99   \n",
      "8       102  Radian R100 Car Seat  Diono       102     Amazon     179.99   \n",
      "9       102  Radian R100 Car Seat  Diono       102     Amazon     209.99   \n",
      "10      102  Radian R100 Car Seat  Diono       102     Amazon     209.99   \n",
      "11      102  Radian R100 Car Seat  Diono       102     Amazon     209.99   \n",
      "12      102  Radian R100 Car Seat  Diono       102     Amazon     209.99   \n",
      "13      102  Radian R100 Car Seat  Diono       102     Amazon     209.99   \n",
      "14      102  Radian R100 Car Seat  Diono       103    Walmart     179.99   \n",
      "15      102  Radian R100 Car Seat  Diono       103    Walmart     234.99   \n",
      "16      102  Radian R100 Car Seat  Diono       103    Walmart     234.99   \n",
      "17      102  Radian R100 Car Seat  Diono       103    Walmart     234.99   \n",
      "18      102  Radian R100 Car Seat  Diono       105  Toys r Us     179.99   \n",
      "19      102  Radian R100 Car Seat  Diono       105  Toys r Us     179.99   \n",
      "20      102  Radian R100 Car Seat  Diono       105  Toys r Us     179.99   \n",
      "21      102  Radian R100 Car Seat  Diono       105  Toys r Us     234.99   \n",
      "\n",
      "    Price Date  \n",
      "0   2018-03-08  \n",
      "1   2018-03-09  \n",
      "2   2018-03-12  \n",
      "3   2018-03-13  \n",
      "4   2018-03-14  \n",
      "5   2018-03-15  \n",
      "6   2018-03-17  \n",
      "7   2018-03-18  \n",
      "8   2018-03-12  \n",
      "9   2018-03-13  \n",
      "10  2018-03-14  \n",
      "11  2018-03-15  \n",
      "12  2018-03-17  \n",
      "13  2018-03-18  \n",
      "14  2018-03-12  \n",
      "15  2018-03-15  \n",
      "16  2018-03-17  \n",
      "17  2018-03-18  \n",
      "18  2018-03-08  \n",
      "19  2018-03-09  \n",
      "20  2018-03-12  \n",
      "21  2018-03-17  \n"
     ]
    }
   ],
   "source": [
    "\n",
    "#df = pd.Series(list_items)\n",
    "labels = ['item id','item name','Brand','Store ID', 'Store Name','Item Price','Price Date']\n",
    "price_history_df = pd.DataFrame.from_records(list_items, columns=labels) #create dataframe from list\n",
    "print(price_history_df) \n"
   ]
  },
  {
   "cell_type": "code",
   "execution_count": 6,
   "metadata": {},
   "outputs": [
    {
     "name": "stdout",
     "output_type": "stream",
     "text": [
      "Store Name  Amazon  Target Toys r Us Walmart\n",
      "Price Date                                  \n",
      "2018-03-08       0  239.99    179.99       0\n",
      "2018-03-09       0  239.99    179.99       0\n",
      "2018-03-12  179.99  234.99    179.99  179.99\n",
      "2018-03-13  209.99  234.99         0       0\n",
      "2018-03-14  209.99  234.99         0       0\n",
      "2018-03-15  209.99  234.99         0  234.99\n",
      "2018-03-17  209.99  234.99    234.99  234.99\n",
      "2018-03-18  209.99  234.99         0  234.99\n"
     ]
    }
   ],
   "source": [
    "\n",
    "#pivot data\n",
    "#pvt_price_history =  price_history_df.pivot(index='Price Date',columns='Store Name',values = 'Item Price' )\n",
    "#fill None with 0\n",
    "pvt_price_history =  price_history_df.pivot(index='Price Date',columns='Store Name',values = 'Item Price' ).fillna(0)\n",
    "#pvt_price_history =  price_history_df.pivot(index='Price Date',columns='Store Name',values = 'Item Price' ).fillna(method='bfill', inplace=True)\n",
    "\n",
    "print(pvt_price_history)\n"
   ]
  },
  {
   "cell_type": "code",
   "execution_count": 7,
   "metadata": {},
   "outputs": [
    {
     "name": "stdout",
     "output_type": "stream",
     "text": [
      "   Store Name  Price Date Item Price\n",
      "0      Amazon  2018-03-08          0\n",
      "1      Amazon  2018-03-09          0\n",
      "2      Amazon  2018-03-12     179.99\n",
      "3      Amazon  2018-03-13     209.99\n",
      "4      Amazon  2018-03-14     209.99\n",
      "5      Amazon  2018-03-15     209.99\n",
      "6      Amazon  2018-03-17     209.99\n",
      "7      Amazon  2018-03-18     209.99\n",
      "8      Target  2018-03-08     239.99\n",
      "9      Target  2018-03-09     239.99\n",
      "10     Target  2018-03-12     234.99\n",
      "11     Target  2018-03-13     234.99\n",
      "12     Target  2018-03-14     234.99\n",
      "13     Target  2018-03-15     234.99\n",
      "14     Target  2018-03-17     234.99\n",
      "15     Target  2018-03-18     234.99\n",
      "16  Toys r Us  2018-03-08     179.99\n",
      "17  Toys r Us  2018-03-09     179.99\n",
      "18  Toys r Us  2018-03-12     179.99\n",
      "19  Toys r Us  2018-03-13          0\n",
      "20  Toys r Us  2018-03-14          0\n",
      "21  Toys r Us  2018-03-15          0\n",
      "22  Toys r Us  2018-03-17     234.99\n",
      "23  Toys r Us  2018-03-18          0\n",
      "24    Walmart  2018-03-08          0\n",
      "25    Walmart  2018-03-09          0\n",
      "26    Walmart  2018-03-12     179.99\n",
      "27    Walmart  2018-03-13          0\n",
      "28    Walmart  2018-03-14          0\n",
      "29    Walmart  2018-03-15     234.99\n",
      "30    Walmart  2018-03-17     234.99\n",
      "31    Walmart  2018-03-18     234.99\n"
     ]
    }
   ],
   "source": [
    "#unpvit the price \n",
    "upvt_price_history = pvt_price_history.unstack().reset_index(name='Item Price')\n",
    "\n",
    "print(upvt_price_history)\n"
   ]
  },
  {
   "cell_type": "code",
   "execution_count": 8,
   "metadata": {},
   "outputs": [
    {
     "name": "stdout",
     "output_type": "stream",
     "text": [
      "   Store Name  Price Date Item Price\n",
      "0      Amazon  2018-03-08          0\n",
      "1      Amazon  2018-03-09          0\n",
      "2      Amazon  2018-03-12     179.99\n",
      "3      Amazon  2018-03-13     209.99\n",
      "4      Amazon  2018-03-14     209.99\n",
      "5      Amazon  2018-03-15     209.99\n",
      "6      Amazon  2018-03-17     209.99\n",
      "7      Amazon  2018-03-18     209.99\n",
      "8      Target  2018-03-08     239.99\n",
      "9      Target  2018-03-09     239.99\n",
      "10     Target  2018-03-12     234.99\n",
      "11     Target  2018-03-13     234.99\n",
      "12     Target  2018-03-14     234.99\n",
      "13     Target  2018-03-15     234.99\n",
      "14     Target  2018-03-17     234.99\n",
      "15     Target  2018-03-18     234.99\n",
      "16  Toys r Us  2018-03-08     179.99\n",
      "17  Toys r Us  2018-03-09     179.99\n",
      "18  Toys r Us  2018-03-12     179.99\n",
      "19  Toys r Us  2018-03-13     179.99\n",
      "20  Toys r Us  2018-03-14     179.99\n",
      "21  Toys r Us  2018-03-15     179.99\n",
      "22  Toys r Us  2018-03-17     234.99\n",
      "23  Toys r Us  2018-03-18     234.99\n",
      "24    Walmart  2018-03-08     234.99\n",
      "25    Walmart  2018-03-09     234.99\n",
      "26    Walmart  2018-03-12     179.99\n",
      "27    Walmart  2018-03-13     179.99\n",
      "28    Walmart  2018-03-14     179.99\n",
      "29    Walmart  2018-03-15     234.99\n",
      "30    Walmart  2018-03-17     234.99\n",
      "31    Walmart  2018-03-18     234.99\n"
     ]
    }
   ],
   "source": [
    "#replace 0 with None so we can front fill later\n",
    "upvt_price_history['Item Price'].replace(\n",
    "    to_replace=[0],\n",
    "    value=None,\n",
    "    inplace=True\n",
    ")\n",
    "\n",
    "print(upvt_price_history)\n"
   ]
  },
  {
   "cell_type": "code",
   "execution_count": 14,
   "metadata": {},
   "outputs": [
    {
     "name": "stdout",
     "output_type": "stream",
     "text": [
      "   Store Name  Price Date Item Price\n",
      "0      Amazon  2018-03-08          0\n",
      "1      Amazon  2018-03-09          0\n",
      "2      Amazon  2018-03-12     179.99\n",
      "3      Amazon  2018-03-13     209.99\n",
      "4      Amazon  2018-03-14     209.99\n",
      "5      Amazon  2018-03-15     209.99\n",
      "6      Amazon  2018-03-17     209.99\n",
      "7      Amazon  2018-03-18     209.99\n",
      "8      Target  2018-03-08     239.99\n",
      "9      Target  2018-03-09     239.99\n",
      "10     Target  2018-03-12     234.99\n",
      "11     Target  2018-03-13     234.99\n",
      "12     Target  2018-03-14     234.99\n",
      "13     Target  2018-03-15     234.99\n",
      "14     Target  2018-03-17     234.99\n",
      "15     Target  2018-03-18     234.99\n",
      "16  Toys r Us  2018-03-08     179.99\n",
      "17  Toys r Us  2018-03-09     179.99\n",
      "18  Toys r Us  2018-03-12     179.99\n",
      "19  Toys r Us  2018-03-13     179.99\n",
      "20  Toys r Us  2018-03-14     179.99\n",
      "21  Toys r Us  2018-03-15     179.99\n",
      "22  Toys r Us  2018-03-17     234.99\n",
      "23  Toys r Us  2018-03-18     234.99\n",
      "24    Walmart  2018-03-08     234.99\n",
      "25    Walmart  2018-03-09     234.99\n",
      "26    Walmart  2018-03-12     179.99\n",
      "27    Walmart  2018-03-13     179.99\n",
      "28    Walmart  2018-03-14     179.99\n",
      "29    Walmart  2018-03-15     234.99\n",
      "30    Walmart  2018-03-17     234.99\n",
      "31    Walmart  2018-03-18     234.99\n"
     ]
    }
   ],
   "source": [
    "#front fill all the data\n",
    "upvt_price_history.groupby('Price Date')['Item Price'].fillna(method='bfill') \n",
    "\n",
    "print(upvt_price_history)"
   ]
  },
  {
   "cell_type": "code",
   "execution_count": 15,
   "metadata": {},
   "outputs": [
    {
     "name": "stdout",
     "output_type": "stream",
     "text": [
      "Store Name  Amazon  Target Toys r Us Walmart\n",
      "Price Date                                  \n",
      "2018-03-08       0  239.99    179.99  234.99\n",
      "2018-03-09       0  239.99    179.99  234.99\n",
      "2018-03-12  179.99  234.99    179.99  179.99\n",
      "2018-03-13  209.99  234.99    179.99  179.99\n",
      "2018-03-14  209.99  234.99    179.99  179.99\n",
      "2018-03-15  209.99  234.99    179.99  234.99\n",
      "2018-03-17  209.99  234.99    234.99  234.99\n",
      "2018-03-18  209.99  234.99    234.99  234.99\n"
     ]
    }
   ],
   "source": [
    "# repivot for graphing\n",
    "pvt_price_history2 =  upvt_price_history.pivot(index='Price Date',columns='Store Name',values = 'Item Price' ).fillna(0)\n",
    "print(pvt_price_history2)"
   ]
  },
  {
   "cell_type": "code",
   "execution_count": 16,
   "metadata": {},
   "outputs": [
    {
     "name": "stdout",
     "output_type": "stream",
     "text": [
      "0.12.1\n"
     ]
    }
   ],
   "source": [
    "import plotly.plotly as py\n",
    "import cufflinks as cf\n",
    "import pandas as pd\n",
    "import numpy as np\n",
    "print (cf.__version__)\n"
   ]
  },
  {
   "cell_type": "code",
   "execution_count": 17,
   "metadata": {},
   "outputs": [
    {
     "data": {
      "text/html": [
       "<iframe id=\"igraph\" scrolling=\"no\" style=\"border:none;\" seamless=\"seamless\" src=\"https://plot.ly/~spottedcow85/3.embed\" height=\"525px\" width=\"100%\"></iframe>"
      ],
      "text/plain": [
       "<plotly.tools.PlotlyDisplay object>"
      ]
     },
     "execution_count": 17,
     "metadata": {},
     "output_type": "execute_result"
    }
   ],
   "source": [
    "import plotly.graph_objs as go\n",
    "\n",
    "#Price history for car seat\n",
    "df = pvt_price_history2\n",
    "\n",
    "py.iplot([{\n",
    "    'x': df.index,\n",
    "    'y': df[col],\n",
    "    'name': col\n",
    "}  for col in df.columns], filename='simple-line', title=\"test\")\n",
    "#print(df)"
   ]
  },
  {
   "cell_type": "code",
   "execution_count": 18,
   "metadata": {},
   "outputs": [
    {
     "data": {
      "text/html": [
       "<iframe id=\"igraph\" scrolling=\"no\" style=\"border:none;\" seamless=\"seamless\" src=\"https://plot.ly/~spottedcow85/3.embed\" height=\"525px\" width=\"100%\"></iframe>"
      ],
      "text/plain": [
       "<plotly.tools.PlotlyDisplay object>"
      ]
     },
     "execution_count": 18,
     "metadata": {},
     "output_type": "execute_result"
    }
   ],
   "source": [
    "amazon = upvt_price_history.loc[upvt_price_history['Store Name'] == 'Amazon']\n",
    "walmart = upvt_price_history.loc[upvt_price_history['Store Name'] == 'Walmart']\n",
    "toysrus = upvt_price_history.loc[upvt_price_history['Store Name'] == 'Toys r Us']\n",
    "target = upvt_price_history.loc[upvt_price_history['Store Name'] == 'Target']\n",
    "\n",
    "\n",
    "amazon_trace = go.Scatter(\n",
    "    x = list(amazon['Price Date']),#dates\n",
    "    y = list(amazon['Item Price']),\n",
    "    name = 'Amazon',\n",
    "    line = dict(\n",
    "        color = ('rgb(49, 86, 219)'),\n",
    "        width = 4)\n",
    ")\n",
    "\n",
    "\n",
    "walmart_trace = go.Scatter(\n",
    "    x = list(walmart['Price Date']),#dates\n",
    "    y = list(walmart['Item Price']),\n",
    "    name = 'Walmart',\n",
    "    line = dict(\n",
    "        color = ('rgb(205, 12, 24)'),\n",
    "        width = 4)\n",
    ")\n",
    "\n",
    "toys_trace = go.Scatter(\n",
    "    x = list(toysrus['Price Date']),#dates\n",
    "    y = list(toysrus['Item Price']),\n",
    "    name = 'Toys r Us',\n",
    "    line = dict(\n",
    "        color = ('rgb(49, 177, 32)'),\n",
    "        width = 4)\n",
    ")\n",
    "\n",
    "target_trace = go.Scatter(\n",
    "    x = list(target['Price Date']),#dates\n",
    "    y = list(target['Item Price']),\n",
    "    name = 'Target',\n",
    "    line = dict(\n",
    "        color = ('rgb(255, 153, 0)'),\n",
    "        width = 4)\n",
    ")\n",
    "\n",
    "\n",
    "data = [amazon_trace, walmart_trace, toys_trace, target_trace]\n",
    "\n",
    "layout = go.Layout(\n",
    "    title='Price Hisotry for Diono Radian R100 Car Seat',\n",
    "    xaxis=dict(\n",
    "        title='Date',\n",
    "        titlefont=dict(\n",
    "            family='Courier New, monospace',\n",
    "            size=18,\n",
    "            color='#7f7f7f'\n",
    "        )\n",
    "    ),\n",
    "    yaxis=dict(\n",
    "        title='Item Price',\n",
    "        titlefont=dict(\n",
    "            family='Courier New, monospace',\n",
    "            size=18,\n",
    "            color='#7f7f7f'\n",
    "        )\n",
    "    )\n",
    ")\n",
    "fig = go.Figure(data=data, layout=layout)\n",
    "py.iplot(fig, filename='simple-line', title=\"test\")"
   ]
  },
  {
   "cell_type": "code",
   "execution_count": null,
   "metadata": {},
   "outputs": [],
   "source": []
  }
 ],
 "metadata": {
  "kernelspec": {
   "display_name": "Python 3",
   "language": "python",
   "name": "python3"
  },
  "language_info": {
   "codemirror_mode": {
    "name": "ipython",
    "version": 3
   },
   "file_extension": ".py",
   "mimetype": "text/x-python",
   "name": "python",
   "nbconvert_exporter": "python",
   "pygments_lexer": "ipython3",
   "version": "3.6.1"
  }
 },
 "nbformat": 4,
 "nbformat_minor": 2
}
