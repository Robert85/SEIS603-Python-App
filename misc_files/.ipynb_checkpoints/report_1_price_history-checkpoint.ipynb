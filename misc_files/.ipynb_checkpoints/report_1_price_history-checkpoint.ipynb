{
 "cells": [
  {
   "cell_type": "code",
   "execution_count": 2,
   "metadata": {},
   "outputs": [],
   "source": [
    "import plotly.plotly as py\n",
    "import plotly.graph_objs as go\n",
    "import plotly\n",
    "import pyodbc\n",
    "import pandas as pd\n",
    "import plotly.plotly as py\n",
    "import cufflinks as cf\n",
    "import pandas as pd\n",
    "import numpy as np"
   ]
  },
  {
   "cell_type": "code",
   "execution_count": 3,
   "metadata": {},
   "outputs": [],
   "source": [
    "def database_connection():\n",
    "    conn = pyodbc.connect(\n",
    "        r'DRIVER={SQL Server Native Client 11.0};'\n",
    "        r'SERVER=localhost;'\n",
    "        r'DATABASE=seis603_pricing_project;'\n",
    "        r'UID=python_dev;'\n",
    "        r'PWD=python_dev;'\n",
    "        )\n",
    "    cursor = conn.cursor()\n",
    "    return cursor\n",
    "\n",
    "db_connection = database_connection()"
   ]
  },
  {
   "cell_type": "code",
   "execution_count": 4,
   "metadata": {},
   "outputs": [
    {
     "name": "stdout",
     "output_type": "stream",
     "text": [
      "   item id             item name\n",
      "0      101     Adrenaline GTS 17\n",
      "1      102  Radian R100 Car Seat\n",
      "2      103               Samsung\n"
     ]
    }
   ],
   "source": [
    "user_id=100\n",
    "#items tracking\n",
    "sql = \"EXEC [dbo].[usp_GetCurrentTracking] {}\".format(user_id)\n",
    "db_connection.execute(sql)#, params) #executing sproc\n",
    "list_items = db_connection.fetchall()#[0] #fetchone will only return first result\n",
    "#df = pd.Series(list_items)\n",
    "labels = ['item id','item name']\n",
    "df = pd.DataFrame.from_records(list_items, columns=labels) #create dataframe from list\n",
    "print(df)    "
   ]
  },
  {
   "cell_type": "code",
   "execution_count": 5,
   "metadata": {},
   "outputs": [],
   "source": [
    "#set up user and item we are looking up\n",
    "item_id = 102\n"
   ]
  },
  {
   "cell_type": "code",
   "execution_count": 6,
   "metadata": {},
   "outputs": [],
   "source": [
    "#price history of items\n",
    "sql = \"EXEC [dbo].[usp_GetUserItemPriceHistory] {},{}\".format(user_id,item_id)\n",
    "db_connection.execute(sql)#, params) #executing sproc\n",
    "list_items = db_connection.fetchall()#[0] #fetchone will only return first result\n",
    "\n",
    "#putting price history into a data frame\n",
    "labels = ['item id','item name','Brand','Store ID', 'Store Name','Item Price','Price Date']\n",
    "price_history_df = pd.DataFrame.from_records(list_items, columns=labels) #create dataframe from list\n",
    "\n",
    "\n",
    "#pivot data and replace all None values with 0\n",
    "pvt_price_history =  price_history_df.pivot(index='Price Date',columns='Store Name',values = 'Item Price' ).fillna(0)\n",
    "\n",
    "#unpvit the price \n",
    "upvt_price_history = pvt_price_history.unstack().reset_index(name='Item Price')\n",
    "\n",
    "\n",
    "#replace 0 with None so we can front fill later\n",
    "upvt_price_history['Item Price'].replace(\n",
    "    to_replace=[0],\n",
    "    value=None,\n",
    "    inplace=True\n",
    ")\n",
    "\n",
    "#front fill all the data\n",
    "upvt_price_history.groupby('Price Date')['Item Price'].fillna(method='bfill') \n",
    "\n",
    "# repivot for graphing\n",
    "pvt_price_history2 =  upvt_price_history.pivot(index='Price Date',columns='Store Name',values = 'Item Price' ).fillna(0)\n",
    "\n",
    "\n"
   ]
  },
  {
   "cell_type": "code",
   "execution_count": 7,
   "metadata": {},
   "outputs": [
    {
     "data": {
      "text/html": [
       "<iframe id=\"igraph\" scrolling=\"no\" style=\"border:none;\" seamless=\"seamless\" src=\"https://plot.ly/~spottedcow85/3.embed\" height=\"525px\" width=\"100%\"></iframe>"
      ],
      "text/plain": [
       "<plotly.tools.PlotlyDisplay object>"
      ]
     },
     "execution_count": 7,
     "metadata": {},
     "output_type": "execute_result"
    }
   ],
   "source": [
    "amazon = upvt_price_history.loc[upvt_price_history['Store Name'] == 'Amazon']\n",
    "walmart = upvt_price_history.loc[upvt_price_history['Store Name'] == 'Walmart']\n",
    "toysrus = upvt_price_history.loc[upvt_price_history['Store Name'] == 'Toys r Us']\n",
    "target = upvt_price_history.loc[upvt_price_history['Store Name'] == 'Target']\n",
    "item_name = price_history_df[\"item name\"].unique()[0]\n",
    "\n",
    "amazon_trace = go.Scatter(\n",
    "    x = list(amazon['Price Date']),#dates\n",
    "    y = list(amazon['Item Price']),\n",
    "    name = 'Amazon',\n",
    "    line = dict(\n",
    "        color = ('rgb(49, 86, 219)'),\n",
    "        width = 4)\n",
    ")\n",
    "\n",
    "\n",
    "walmart_trace = go.Scatter(\n",
    "    x = list(walmart['Price Date']),#dates\n",
    "    y = list(walmart['Item Price']),\n",
    "    name = 'Walmart',\n",
    "    line = dict(\n",
    "        color = ('rgb(205, 12, 24)'),\n",
    "        width = 4)\n",
    ")\n",
    "\n",
    "toys_trace = go.Scatter(\n",
    "    x = list(toysrus['Price Date']),#dates\n",
    "    y = list(toysrus['Item Price']),\n",
    "    name = 'Toys r Us',\n",
    "    line = dict(\n",
    "        color = ('rgb(49, 177, 32)'),\n",
    "        width = 4)\n",
    ")\n",
    "\n",
    "target_trace = go.Scatter(\n",
    "    x = list(target['Price Date']),#dates\n",
    "    y = list(target['Item Price']),\n",
    "    name = 'Target',\n",
    "    line = dict(\n",
    "        color = ('rgb(255, 153, 0)'),\n",
    "        width = 4)\n",
    ")\n",
    "\n",
    "\n",
    "data = [amazon_trace, walmart_trace, toys_trace, target_trace]\n",
    "\n",
    "layout = go.Layout(\n",
    "    title='Price History for {}'.format(item_name),\n",
    "    xaxis=dict(\n",
    "        title='Date',\n",
    "        titlefont=dict(\n",
    "            family='Courier New, monospace',\n",
    "            size=18,\n",
    "            color='#7f7f7f'\n",
    "        )\n",
    "    ),\n",
    "    yaxis=dict(\n",
    "        title='Item Price',\n",
    "        titlefont=dict(\n",
    "            family='Courier New, monospace',\n",
    "            size=18,\n",
    "            color='#7f7f7f'\n",
    "        )\n",
    "    ),\n",
    "    \n",
    ")\n",
    "fig = go.Figure(data=data, layout=layout)\n",
    "py.iplot(fig, filename='simple-line')"
   ]
  }
 ],
 "metadata": {
  "kernelspec": {
   "display_name": "Python 3",
   "language": "python",
   "name": "python3"
  },
  "language_info": {
   "codemirror_mode": {
    "name": "ipython",
    "version": 3
   },
   "file_extension": ".py",
   "mimetype": "text/x-python",
   "name": "python",
   "nbconvert_exporter": "python",
   "pygments_lexer": "ipython3",
   "version": "3.6.1"
  }
 },
 "nbformat": 4,
 "nbformat_minor": 2
}
