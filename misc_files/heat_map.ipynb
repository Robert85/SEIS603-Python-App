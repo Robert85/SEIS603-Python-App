{
 "cells": [
  {
   "cell_type": "code",
   "execution_count": 23,
   "metadata": {},
   "outputs": [],
   "source": [
    "import plotly.plotly as py\n",
    "import plotly.graph_objs as go\n",
    "import plotly\n",
    "import pyodbc\n",
    "import pandas as pd\n",
    "\n",
    "def database_connection():\n",
    "    conn = pyodbc.connect(\n",
    "        r'DRIVER={SQL Server Native Client 11.0};'\n",
    "        r'SERVER=localhost;'\n",
    "        r'DATABASE=seis603_pricing_project;'\n",
    "        r'UID=python_dev;'\n",
    "        r'PWD=python_dev;'\n",
    "        )\n",
    "    cursor = conn.cursor()\n",
    "    return cursor\n",
    "\n",
    "db_connection = database_connection()\n",
    "\n",
    "#set up user and item we are looking up\n",
    "user_id = 100\n",
    "item_id = 102"
   ]
  },
  {
   "cell_type": "code",
   "execution_count": 24,
   "metadata": {},
   "outputs": [
    {
     "name": "stdout",
     "output_type": "stream",
     "text": [
      "item name      Adrenaline GTS 17 Radian R100 Car Seat\n",
      "store name                                           \n",
      "Amazon                         0               209.99\n",
      "Brooks Running             78.00                    0\n",
      "Target                         0               239.99\n",
      "Toys r Us                      0               234.99\n",
      "Walmart                        0               234.99\n"
     ]
    }
   ],
   "source": [
    "sql = \"EXEC [dbo].[usp_GetUserItemTrackPrices] {},{}\".format(user_id,item_id)\n",
    "db_connection.execute(sql) #executing sproc\n",
    "price_lists = db_connection.fetchall()#[0] #fetchone will only return first result\n",
    "labels = ['item id','item name','store id','store name','current price']\n",
    "df_current_price = pd.DataFrame.from_records(price_lists, columns=labels) #create dataframe from list\n",
    "#pivot data so its easier to read to compare prices between stores.\n",
    "pvt_current_prices =  df_current_price.pivot(index='store name',columns='item name',values = 'current price' ).fillna(0)\n",
    "print(pvt_current_prices)"
   ]
  },
  {
   "cell_type": "code",
   "execution_count": 17,
   "metadata": {},
   "outputs": [
    {
     "name": "stdout",
     "output_type": "stream",
     "text": [
      "0     78.00\n",
      "1    209.99\n",
      "2    234.99\n",
      "3    234.99\n",
      "4    239.99\n",
      "Name: current price, dtype: object\n",
      "0    Brooks Running\n",
      "1            Amazon\n",
      "2           Walmart\n",
      "3         Toys r Us\n",
      "4            Target\n",
      "Name: store name, dtype: object\n",
      "0       Adrenaline GTS 17\n",
      "1    Radian R100 Car Seat\n",
      "2    Radian R100 Car Seat\n",
      "3    Radian R100 Car Seat\n",
      "4    Radian R100 Car Seat\n",
      "Name: item name, dtype: object\n"
     ]
    }
   ],
   "source": [
    "print(df_current_price['current price'])\n",
    "print(df_current_price['store name'])\n",
    "print(df_current_price['item name'])"
   ]
  },
  {
   "cell_type": "code",
   "execution_count": 33,
   "metadata": {},
   "outputs": [
    {
     "data": {
      "text/html": [
       "<iframe id=\"igraph\" scrolling=\"no\" style=\"border:none;\" seamless=\"seamless\" src=\"https://plot.ly/~spottedcow85/7.embed\" height=\"525px\" width=\"100%\"></iframe>"
      ],
      "text/plain": [
       "<plotly.tools.PlotlyDisplay object>"
      ]
     },
     "execution_count": 33,
     "metadata": {},
     "output_type": "execute_result"
    }
   ],
   "source": [
    "prices = list(df_current_price['current price'])\n",
    "store_names = list(df_current_price['store name'])\n",
    "item_names = list(df_current_price['item name'])\n",
    "\n",
    "trace = go.Heatmap(z=[prices],\n",
    "                   x=[store_names] ,\n",
    "                   y=[item_names])\n",
    "\n",
    "data=[trace]\n",
    "py.iplot(data, filename='labelled-heatmap')"
   ]
  },
  {
   "cell_type": "code",
   "execution_count": 5,
   "metadata": {},
   "outputs": [
    {
     "data": {
      "text/html": [
       "<iframe id=\"igraph\" scrolling=\"no\" style=\"border:none;\" seamless=\"seamless\" src=\"https://plot.ly/~spottedcow85/7.embed\" height=\"525px\" width=\"100%\"></iframe>"
      ],
      "text/plain": [
       "<plotly.tools.PlotlyDisplay object>"
      ]
     },
     "execution_count": 5,
     "metadata": {},
     "output_type": "execute_result"
    }
   ],
   "source": [
    "trace = go.Heatmap(z=[[1, 20, 30, 50, 1], [20, 1, 60, 80, 30], [30, 60, 1, -10, 20]],\n",
    "                   x=['Monday', 'Tuesday', 'Wednesday', 'Thursday', 'Friday'],\n",
    "                   y=['Morning', 'Afternoon', 'Evening'])\n",
    "data=[trace]\n",
    "py.iplot(data, filename='labelled-heatmap')"
   ]
  },
  {
   "cell_type": "code",
   "execution_count": 36,
   "metadata": {},
   "outputs": [
    {
     "data": {
      "text/html": [
       "<iframe id=\"igraph\" scrolling=\"no\" style=\"border:none;\" seamless=\"seamless\" src=\"https://plot.ly/~spottedcow85/7.embed\" height=\"525px\" width=\"100%\"></iframe>"
      ],
      "text/plain": [
       "<plotly.tools.PlotlyDisplay object>"
      ]
     },
     "execution_count": 36,
     "metadata": {},
     "output_type": "execute_result"
    }
   ],
   "source": [
    "trace = go.Heatmap(z=[[205,180,90,76],[0,0,0,0,78]],\n",
    "                   x=['Target', 'Toys R Us', 'Walmart', 'Amazon', 'Brooks'],\n",
    "                   y=['Diono Radian R100','Brooks running shoes'])\n",
    "data=[trace]\n",
    "py.iplot(data, filename='labelled-heatmap')"
   ]
  },
  {
   "cell_type": "code",
   "execution_count": 41,
   "metadata": {},
   "outputs": [
    {
     "name": "stdout",
     "output_type": "stream",
     "text": [
      "[Decimal('78.00'), Decimal('209.99'), Decimal('234.99'), Decimal('234.99'), Decimal('239.99')]\n",
      "['Brooks Running', 'Amazon', 'Walmart', 'Toys r Us', 'Target']\n",
      "['Adrenaline GTS 17', 'Radian R100 Car Seat', 'Radian R100 Car Seat', 'Radian R100 Car Seat', 'Radian R100 Car Seat']\n"
     ]
    },
    {
     "data": {
      "text/plain": [
       "\"\\ntrace = go.Heatmap(z=[prices],\\n                   x=[store_names] ,\\n                   y=[item_names])\\n\\ndata=[trace]\\npy.iplot(data, filename='labelled-heatmap')\\n\""
      ]
     },
     "execution_count": 41,
     "metadata": {},
     "output_type": "execute_result"
    }
   ],
   "source": [
    "prices = list(df_current_price['current price'])\n",
    "store_names = list(df_current_price['store name'])\n",
    "item_names = list(df_current_price['item name'])\n",
    "\n",
    "print(prices)\n",
    "print(store_names)\n",
    "print(item_names)\n",
    "\n",
    "'''\n",
    "trace = go.Heatmap(z=[prices],\n",
    "                   x=[store_names] ,\n",
    "                   y=[item_names])\n",
    "\n",
    "data=[trace]\n",
    "py.iplot(data, filename='labelled-heatmap')\n",
    "'''"
   ]
  },
  {
   "cell_type": "code",
   "execution_count": null,
   "metadata": {},
   "outputs": [],
   "source": []
  }
 ],
 "metadata": {
  "kernelspec": {
   "display_name": "Python 3",
   "language": "python",
   "name": "python3"
  },
  "language_info": {
   "codemirror_mode": {
    "name": "ipython",
    "version": 3
   },
   "file_extension": ".py",
   "mimetype": "text/x-python",
   "name": "python",
   "nbconvert_exporter": "python",
   "pygments_lexer": "ipython3",
   "version": "3.6.1"
  }
 },
 "nbformat": 4,
 "nbformat_minor": 2
}
